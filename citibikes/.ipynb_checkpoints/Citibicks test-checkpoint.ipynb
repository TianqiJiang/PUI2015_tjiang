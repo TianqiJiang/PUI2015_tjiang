{
 "cells": [
  {
   "cell_type": "markdown",
   "metadata": {},
   "source": [
    "# IDEA\n",
    "\n",
    "### Youngth are more likely to choose biking for commuting\n",
    "\n",
    "# NULL HYPOTHESIS\n",
    "### The mean of trip duration of subscriber younger than 25 is less or same as the mean of trip duration of subscriber older than 25.\n",
    "\n",
    "### Significance level α=0.05\n",
    "\n",
    "### Data: 201502-citibike-tripdata.csv\n",
    "\n",
    "### Test: t-test"
   ]
  },
  {
   "cell_type": "code",
   "execution_count": 9,
   "metadata": {
    "collapsed": false,
    "scrolled": false
   },
   "outputs": [
    {
     "name": "stdout",
     "output_type": "stream",
     "text": [
      "Populating the interactive namespace from numpy and matplotlib\n"
     ]
    }
   ],
   "source": [
    "import pandas as pd\n",
    "import numpy as np\n",
    "import matplotlib.pyplot as plt\n",
    "plt.style.use('ggplot')\n",
    "from scipy import stats\n",
    "%pylab inline"
   ]
  },
  {
   "cell_type": "code",
   "execution_count": 10,
   "metadata": {
    "collapsed": true
   },
   "outputs": [],
   "source": [
    "df = pd.read_csv('201502-citibike-tripdata.csv')"
   ]
  },
  {
   "cell_type": "code",
   "execution_count": 11,
   "metadata": {
    "collapsed": false
   },
   "outputs": [],
   "source": [
    "df['TDur_youngerthan25'] = df['tripduration'][df['usertype']=='Subscriber'][df['birth year']>=1990]\n",
    "df['TDur_olderthan25'] = df['tripduration'][df['usertype']=='Subscriber'][df['birth year']<1990]"
   ]
  },
  {
   "cell_type": "code",
   "execution_count": 16,
   "metadata": {
    "collapsed": false,
    "scrolled": false
   },
   "outputs": [
    {
     "data": {
      "image/png": "[encoded data removed]",
      "text/plain": [
       "<matplotlib.figure.Figure at 0x103e74c10>"
      ]
     },
     "metadata": {},
     "output_type": "display_data"
    },
    {
     "data": {
      "image/png": "[encoded data removed]",
      "text/plain": [
       "<matplotlib.figure.Figure at 0x1086309d0>"
      ]
     },
     "metadata": {},
     "output_type": "display_data"
    }
   ],
   "source": [
    "ax1 = df[np.abs(df.TDur_youngerthan25-df.TDur_youngerthan25.mean())<=(3*df.TDur_youngerthan25.std())].TDur_youngerthan25.plot(kind='hist', alpha=0.5)\n",
    "ax1.set_title('Trip Duration by Subscriber Younger than 25')\n",
    "ax1.set_ylabel('Count')\n",
    "ax1.set_xlabel('Trip Duration (s)')\n",
    "plt.show()\n",
    "ax2 = df[np.abs(df.TDur_olderthan25-df.TDur_olderthan25.mean())<=(3*df.TDur_olderthan25.std())].TDur_olderthan25.plot(kind='hist', alpha=0.5)\n",
    "ax2.set_title('Trip Duration by Subscriber Older than 25')\n",
    "ax2.set_ylabel('Count')\n",
    "ax2.set_xlabel('Trip Duration (s)')\n",
    "plt.show()"
   ]
  },
  {
   "cell_type": "code",
   "execution_count": 14,
   "metadata": {
    "collapsed": false,
    "scrolled": false
   },
   "outputs": [
    {
     "name": "stdout",
     "output_type": "stream",
     "text": [
      "Summary Statistics for Tripduration of Subscriber Younger than 25\n",
      "count    17752.000000\n",
      "mean       584.908912\n",
      "std        826.386292\n",
      "min         60.000000\n",
      "25%        313.000000\n",
      "50%        464.000000\n",
      "75%        694.000000\n",
      "max      41869.000000\n",
      "Name: TDur_youngerthan25, dtype: float64\n"
     ]
    }
   ],
   "source": [
    "print 'Summary Statistics for Tripduration of Subscriber Younger than 25'\n",
    "print df.TDur_youngerthan25.describe()"
   ]
  },
  {
   "cell_type": "code",
   "execution_count": 15,
   "metadata": {
    "collapsed": false,
    "scrolled": false
   },
   "outputs": [
    {
     "name": "stdout",
     "output_type": "stream",
     "text": [
      "Summary Statistics for Tripduration of Subscriber Older than 25\n",
      "count    176911.000000\n",
      "mean        645.243891\n",
      "std         848.186612\n",
      "min          60.000000\n",
      "25%         342.000000\n",
      "50%         508.000000\n",
      "75%         764.000000\n",
      "max       43016.000000\n",
      "Name: TDur_olderthan25, dtype: float64\n"
     ]
    }
   ],
   "source": [
    "print 'Summary Statistics for Tripduration of Subscriber Older than 25'\n",
    "print df.TDur_olderthan25.describe()"
   ]
  },
  {
   "cell_type": "code",
   "execution_count": 19,
   "metadata": {
    "collapsed": false
   },
   "outputs": [
    {
     "data": {
      "text/plain": [
       "(-9.251015833466532, 2.4238860805672533e-20)"
      ]
     },
     "execution_count": 19,
     "metadata": {},
     "output_type": "execute_result"
    }
   ],
   "source": [
    "stats.ttest_ind(df.TDur_youngerthan25.dropna(), df.TDur_olderthan25.dropna(), equal_var = False)"
   ]
  },
  {
   "cell_type": "markdown",
   "metadata": {},
   "source": [
    "# Result\n",
    "Since the P-value is smaller than the critical value 0.05, the null hypothesis is rejected."
   ]
  }
 ],
 "metadata": {
  "kernelspec": {
   "display_name": "Python 2",
   "language": "python",
   "name": "python2"
  },
  "language_info": {
   "codemirror_mode": {
    "name": "ipython",
    "version": 2
   },
   "file_extension": ".py",
   "mimetype": "text/x-python",
   "name": "python",
   "nbconvert_exporter": "python",
   "pygments_lexer": "ipython2",
   "version": "2.7.10"
  }
 },
 "nbformat": 4,
 "nbformat_minor": 0
}
